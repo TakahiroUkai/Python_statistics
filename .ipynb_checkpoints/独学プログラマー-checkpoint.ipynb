{
 "cells": [
  {
   "cell_type": "code",
   "execution_count": 9,
   "metadata": {},
   "outputs": [],
   "source": [
    "import random"
   ]
  },
  {
   "cell_type": "code",
   "execution_count": null,
   "metadata": {},
   "outputs": [],
   "source": [
    "print(\"\"\"long long \n",
    "logn long\"\"\")"
   ]
  },
  {
   "cell_type": "code",
   "execution_count": null,
   "metadata": {},
   "outputs": [],
   "source": [
    "print\\\n",
    "(\"aaa\")"
   ]
  },
  {
   "cell_type": "code",
   "execution_count": null,
   "metadata": {},
   "outputs": [],
   "source": [
    "x = 100\n",
    "print(x)\n",
    "\n",
    "x = 200\n",
    "print(x)"
   ]
  },
  {
   "cell_type": "code",
   "execution_count": null,
   "metadata": {},
   "outputs": [],
   "source": [
    "x = 10\n",
    "y = 10\n",
    "z = x + y\n",
    "print(z)\n",
    "a = x - y\n",
    "print(a)"
   ]
  },
  {
   "cell_type": "code",
   "execution_count": null,
   "metadata": {},
   "outputs": [],
   "source": [
    "x = 10\n",
    "x = x -1\n",
    "x"
   ]
  },
  {
   "cell_type": "code",
   "execution_count": null,
   "metadata": {},
   "outputs": [],
   "source": [
    "x = 10\n",
    "x += 1\n",
    "x"
   ]
  },
  {
   "cell_type": "code",
   "execution_count": null,
   "metadata": {},
   "outputs": [],
   "source": [
    "14 % 2"
   ]
  },
  {
   "cell_type": "code",
   "execution_count": null,
   "metadata": {},
   "outputs": [],
   "source": [
    "14 // 5 "
   ]
  },
  {
   "cell_type": "code",
   "execution_count": null,
   "metadata": {},
   "outputs": [],
   "source": [
    "x = 100\n",
    "x == 100 # xが100と同じかどうか"
   ]
  },
  {
   "cell_type": "code",
   "execution_count": null,
   "metadata": {},
   "outputs": [],
   "source": [
    "not 1 == 2"
   ]
  },
  {
   "cell_type": "code",
   "execution_count": null,
   "metadata": {},
   "outputs": [],
   "source": [
    "not 1 == 1"
   ]
  },
  {
   "cell_type": "code",
   "execution_count": null,
   "metadata": {},
   "outputs": [],
   "source": [
    "not 1 == 1 or 1 == 2"
   ]
  },
  {
   "cell_type": "code",
   "execution_count": null,
   "metadata": {},
   "outputs": [],
   "source": [
    "x = 2\n",
    "if x == 2:\n",
    "    print(\"number is 2\")\n",
    "if x % 2 == 0:\n",
    "    print(\"It's Even number\")\n",
    "if x % 2 != 0:\n",
    "    print(\"It's odd number\")"
   ]
  },
  {
   "cell_type": "code",
   "execution_count": null,
   "metadata": {},
   "outputs": [],
   "source": [
    "x, y = 10, 11\n",
    "if x == 10:\n",
    "    if y == 11:\n",
    "        print (x + y)\n",
    "    else:\n",
    "        print('hogehoge')"
   ]
  },
  {
   "cell_type": "code",
   "execution_count": null,
   "metadata": {},
   "outputs": [],
   "source": [
    "more = 10\n",
    "if more >= 10:\n",
    "    print('more more more')\n",
    "else:\n",
    "    print(\"less then 10\")\n"
   ]
  },
  {
   "cell_type": "code",
   "execution_count": null,
   "metadata": {},
   "outputs": [],
   "source": [
    "variable = 22\n",
    "if variable <= 10:\n",
    "    print('less than 10')\n",
    "if variable > 10 and variable <= 25:\n",
    "    print(\"10 to 25\")\n",
    "if variable > 25:\n",
    "    print('more than 25')"
   ]
  },
  {
   "cell_type": "code",
   "execution_count": null,
   "metadata": {},
   "outputs": [],
   "source": [
    "22 % 5"
   ]
  },
  {
   "cell_type": "code",
   "execution_count": null,
   "metadata": {},
   "outputs": [],
   "source": [
    "22 // 5"
   ]
  },
  {
   "cell_type": "markdown",
   "metadata": {},
   "source": [
    "<h1>Chap 4 </h1>"
   ]
  },
  {
   "cell_type": "code",
   "execution_count": null,
   "metadata": {},
   "outputs": [],
   "source": [
    "def f(x):\n",
    "    return x * 2"
   ]
  },
  {
   "cell_type": "code",
   "execution_count": null,
   "metadata": {},
   "outputs": [],
   "source": [
    "#関数の戻り値に格納　→　あとで利用\n",
    "def f(x):\n",
    "    return x + 1\n",
    "\n",
    "z = f(2)\n",
    "\n",
    "if z == 5:\n",
    "    print('z = 5')\n",
    "else:\n",
    "    print('z != 5')"
   ]
  },
  {
   "cell_type": "code",
   "execution_count": null,
   "metadata": {},
   "outputs": [],
   "source": [
    "def f():\n",
    "    return 1 + 1\n",
    "\n",
    "f()"
   ]
  },
  {
   "cell_type": "code",
   "execution_count": null,
   "metadata": {},
   "outputs": [],
   "source": [
    "def f(x,y,z):\n",
    "    return x + y + z\n",
    "\n",
    "total = f(1,2,3)\n",
    "print(total)"
   ]
  },
  {
   "cell_type": "code",
   "execution_count": null,
   "metadata": {},
   "outputs": [],
   "source": [
    "def f():\n",
    "    z = 1 + 1\n",
    "\n",
    "result = f()\n",
    "print(result)"
   ]
  },
  {
   "cell_type": "code",
   "execution_count": null,
   "metadata": {},
   "outputs": [],
   "source": [
    "len('monty')"
   ]
  },
  {
   "cell_type": "code",
   "execution_count": null,
   "metadata": {},
   "outputs": [],
   "source": [
    "str(100)"
   ]
  },
  {
   "cell_type": "code",
   "execution_count": null,
   "metadata": {},
   "outputs": [],
   "source": [
    "print(int(\"110\"))\n",
    "print(int(29.54))"
   ]
  },
  {
   "cell_type": "code",
   "execution_count": null,
   "metadata": {},
   "outputs": [],
   "source": [
    "print(int(\"110\"))\n",
    "print(int(29.54))\n",
    "\n",
    "print(float('10.4'))\n",
    "print(float(99))"
   ]
  },
  {
   "cell_type": "code",
   "execution_count": 3,
   "metadata": {},
   "outputs": [
    {
     "name": "stdout",
     "output_type": "stream",
     "text": [
      "enter your age11\n",
      "you are young\n"
     ]
    }
   ],
   "source": [
    "age = input('enter your age')# input 関数は str データ型で受け取る\n",
    "int_age = int(age)  # 文字列から整数へ変換\n",
    "if int_age < 21:\n",
    "    print('you are young')\n",
    "else:\n",
    "    print('you are old')"
   ]
  },
  {
   "cell_type": "code",
   "execution_count": 1,
   "metadata": {},
   "outputs": [
    {
     "data": {
      "text/plain": [
       "2"
      ]
     },
     "execution_count": 1,
     "metadata": {},
     "output_type": "execute_result"
    }
   ],
   "source": [
    "1+1"
   ]
  },
  {
   "cell_type": "code",
   "execution_count": 4,
   "metadata": {},
   "outputs": [
    {
     "name": "stdout",
     "output_type": "stream",
     "text": [
      "偶数\n",
      "奇数\n"
     ]
    }
   ],
   "source": [
    "def even_odd(x):\n",
    "    if x % 2 == 0:\n",
    "        print('偶数')\n",
    "    else:\n",
    "        print('奇数')\n",
    "\n",
    "even_odd(2)\n",
    "even_odd(7)"
   ]
  },
  {
   "cell_type": "code",
   "execution_count": 5,
   "metadata": {},
   "outputs": [
    {
     "name": "stdout",
     "output_type": "stream",
     "text": [
      "type a number22\n",
      "it is even\n"
     ]
    }
   ],
   "source": [
    "def even_odd():\n",
    "    n = input('type a number')\n",
    "    n = int(n)\n",
    "    if n % 2 == 0:\n",
    "        print('it is even')\n",
    "    else:\n",
    "        print('n is odd')\n",
    "        \n",
    "even_odd()"
   ]
  },
  {
   "cell_type": "code",
   "execution_count": 6,
   "metadata": {},
   "outputs": [
    {
     "name": "stdout",
     "output_type": "stream",
     "text": [
      "4\n",
      "256\n"
     ]
    }
   ],
   "source": [
    "def f(x=2):\n",
    "    return x ** x\n",
    "\n",
    "print(f())\n",
    "print(f(4))"
   ]
  },
  {
   "cell_type": "code",
   "execution_count": 7,
   "metadata": {},
   "outputs": [
    {
     "name": "stdout",
     "output_type": "stream",
     "text": [
      "12\n"
     ]
    }
   ],
   "source": [
    "def add_it(x, y = 10):\n",
    "    return x + y\n",
    "\n",
    "result = add_it(2)\n",
    "print(result)"
   ]
  },
  {
   "cell_type": "code",
   "execution_count": 9,
   "metadata": {},
   "outputs": [
    {
     "name": "stdout",
     "output_type": "stream",
     "text": [
      "2\n"
     ]
    }
   ],
   "source": [
    "x = 1\n",
    "def f():\n",
    "    global x\n",
    "    x += 1\n",
    "    print(x)\n",
    "\n",
    "f()"
   ]
  },
  {
   "cell_type": "code",
   "execution_count": 14,
   "metadata": {},
   "outputs": [
    {
     "name": "stdout",
     "output_type": "stream",
     "text": [
      "type a number:1\n",
      "type another:1\n",
      "1.0\n"
     ]
    }
   ],
   "source": [
    "a = input('type a number:')\n",
    "b = input('type another:')\n",
    "a = int(a)\n",
    "b = int(b)\n",
    "print(a/b)"
   ]
  },
  {
   "cell_type": "code",
   "execution_count": 6,
   "metadata": {},
   "outputs": [
    {
     "name": "stdout",
     "output_type": "stream",
     "text": [
      "type a number:11\n",
      "type another:11\n",
      "1.0\n"
     ]
    }
   ],
   "source": [
    "a = input('type a number:')\n",
    "b = input('type another:')\n",
    "a = int(a)\n",
    "b = int(b)\n",
    "try:\n",
    "    print(a/b)\n",
    "except (ZeroDivisionError, ValueError):\n",
    "    print('b cannot be zero')"
   ]
  },
  {
   "cell_type": "code",
   "execution_count": 7,
   "metadata": {},
   "outputs": [],
   "source": [
    "def add(x, y):\n",
    "    \"\"\"\n",
    "    Returns x + y\n",
    "    :param x : int.\n",
    "    :param y : int.\n",
    "    :return int sum of x and y.\n",
    "    This is docstring　ドキュメンテーション文字列\n",
    "    \"\"\"\n",
    "    return x + y\n"
   ]
  },
  {
   "cell_type": "code",
   "execution_count": 8,
   "metadata": {},
   "outputs": [],
   "source": [
    "def f():\n",
    "    n = input('type here')\n",
    "    n = int(n)\n",
    "    a = n ** 2\n",
    "    print(a)"
   ]
  },
  {
   "cell_type": "code",
   "execution_count": 9,
   "metadata": {},
   "outputs": [
    {
     "name": "stdout",
     "output_type": "stream",
     "text": [
      "type here2\n",
      "4\n"
     ]
    }
   ],
   "source": [
    "f()"
   ]
  },
  {
   "cell_type": "code",
   "execution_count": 15,
   "metadata": {},
   "outputs": [],
   "source": [
    "m = 'message string'\n",
    "def mess():\n",
    "    print(m)"
   ]
  },
  {
   "cell_type": "code",
   "execution_count": 17,
   "metadata": {},
   "outputs": [
    {
     "name": "stdout",
     "output_type": "stream",
     "text": [
      "message string\n"
     ]
    }
   ],
   "source": [
    "mess()"
   ]
  },
  {
   "cell_type": "code",
   "execution_count": 20,
   "metadata": {},
   "outputs": [],
   "source": [
    "def f(x, y ,z, a=1, b =2):\n",
    "    total = x + y + z + a + b\n",
    "    print(total)"
   ]
  },
  {
   "cell_type": "code",
   "execution_count": 21,
   "metadata": {},
   "outputs": [
    {
     "name": "stdout",
     "output_type": "stream",
     "text": [
      "6\n"
     ]
    }
   ],
   "source": [
    "f(1,1,1)"
   ]
  },
  {
   "cell_type": "code",
   "execution_count": 30,
   "metadata": {},
   "outputs": [],
   "source": [
    "def f():\n",
    "    a = input('number here:')\n",
    "    a = float(a)\n",
    "    print(a)"
   ]
  },
  {
   "cell_type": "code",
   "execution_count": 31,
   "metadata": {},
   "outputs": [
    {
     "name": "stdout",
     "output_type": "stream",
     "text": [
      "number here:1\n",
      "1.0\n"
     ]
    }
   ],
   "source": [
    "f()"
   ]
  },
  {
   "cell_type": "markdown",
   "metadata": {},
   "source": [
    "### Chap　５\n",
    "オブジェクトをコンテナに保存する\n",
    "リスト・タプル・辞書"
   ]
  },
  {
   "cell_type": "code",
   "execution_count": 2,
   "metadata": {},
   "outputs": [
    {
     "data": {
      "text/plain": [
       "'HELLO'"
      ]
     },
     "execution_count": 2,
     "metadata": {},
     "output_type": "execute_result"
    }
   ],
   "source": [
    "\"Hello\".upper()"
   ]
  },
  {
   "cell_type": "code",
   "execution_count": 3,
   "metadata": {},
   "outputs": [
    {
     "data": {
      "text/plain": [
       "'hell@@@'"
      ]
     },
     "execution_count": 3,
     "metadata": {},
     "output_type": "execute_result"
    }
   ],
   "source": [
    "\"hello\".replace(\"o\", \"@@@\")"
   ]
  },
  {
   "cell_type": "markdown",
   "metadata": {},
   "source": [
    "<p> リストは好きな順番でオブジェクトを保存しておけるコンテナ </p>"
   ]
  },
  {
   "cell_type": "code",
   "execution_count": 7,
   "metadata": {},
   "outputs": [
    {
     "data": {
      "text/plain": [
       "[]"
      ]
     },
     "execution_count": 7,
     "metadata": {},
     "output_type": "execute_result"
    }
   ],
   "source": [
    "fruit = list()\n",
    "fruit"
   ]
  },
  {
   "cell_type": "code",
   "execution_count": 8,
   "metadata": {},
   "outputs": [
    {
     "data": {
      "text/plain": [
       "[]"
      ]
     },
     "execution_count": 8,
     "metadata": {},
     "output_type": "execute_result"
    }
   ],
   "source": [
    "fruit = []\n",
    "fruit"
   ]
  },
  {
   "cell_type": "code",
   "execution_count": 13,
   "metadata": {},
   "outputs": [
    {
     "name": "stdout",
     "output_type": "stream",
     "text": [
      "['apple', 'orange', 'banana']\n",
      "['apple', 'orange', 'banana', 'pear', 'peach']\n",
      "orange\n",
      "graips\n"
     ]
    }
   ],
   "source": [
    "fruits = [\"apple\", \"orange\", \"banana\"]\n",
    "print(fruits)\n",
    "fruits.append(\"pear\")\n",
    "fruits.append(\"peach\")\n",
    "print(fruits)\n",
    "print(fruits[1])\n",
    "fruits[1] = \"graips\"\n",
    "print(fruits[1])"
   ]
  },
  {
   "cell_type": "code",
   "execution_count": 14,
   "metadata": {},
   "outputs": [
    {
     "name": "stdout",
     "output_type": "stream",
     "text": [
      "['red', 'green', 'blue']\n",
      "['red', 'green']\n"
     ]
    }
   ],
   "source": [
    "colors = [\"red\", \"green\", \"blue\"]\n",
    "print(colors)\n",
    "colors.pop()\n",
    "print(colors)"
   ]
  },
  {
   "cell_type": "code",
   "execution_count": 18,
   "metadata": {},
   "outputs": [
    {
     "name": "stdout",
     "output_type": "stream",
     "text": [
      "['red', 'green', 'apple', 'graips', 'banana', 'pear', 'peach']\n",
      "True\n",
      "False\n"
     ]
    }
   ],
   "source": [
    "print(colors + fruits)\n",
    "colorfull = colors + fruits\n",
    "b = \"banana\" in colorfull\n",
    "print(b)\n",
    "bl = \"black\" in colorfull\n",
    "print(bl)\n"
   ]
  },
  {
   "cell_type": "code",
   "execution_count": 21,
   "metadata": {},
   "outputs": [
    {
     "name": "stdout",
     "output_type": "stream",
     "text": [
      "color or fruitskogje\n",
      "nonono\n"
     ]
    }
   ],
   "source": [
    "guess = input('color or fruits')\n",
    "if guess in colorfull:\n",
    "    print('yes we have')\n",
    "else:\n",
    "    print('nonono')"
   ]
  },
  {
   "cell_type": "markdown",
   "metadata": {},
   "source": [
    "<p>タプルは好きな順番でオブジェクトを保存しておけるコンテナ</p>\n",
    "<p style=\"color:red\">イミュータブルではないので、格納されているどの要素も変更ができない、追加や削除もできない。</p>\n",
    "<p>（ ）の中に要素を記述　　　　  代わってほしくない要素を保持させるのに利用</p>"
   ]
  },
  {
   "cell_type": "code",
   "execution_count": 26,
   "metadata": {},
   "outputs": [
    {
     "data": {
      "text/plain": [
       "()"
      ]
     },
     "execution_count": 26,
     "metadata": {},
     "output_type": "execute_result"
    }
   ],
   "source": [
    "my_taple = ()\n",
    "my_taple"
   ]
  },
  {
   "cell_type": "code",
   "execution_count": 27,
   "metadata": {},
   "outputs": [
    {
     "data": {
      "text/plain": [
       "('M.Jackson', 1958, True)"
      ]
     },
     "execution_count": 27,
     "metadata": {},
     "output_type": "execute_result"
    }
   ],
   "source": [
    "rndm = ('M.Jackson', 1958, True)\n",
    "rndm"
   ]
  },
  {
   "cell_type": "code",
   "execution_count": 28,
   "metadata": {},
   "outputs": [
    {
     "data": {
      "text/plain": [
       "('this is taple',)"
      ]
     },
     "execution_count": 28,
     "metadata": {},
     "output_type": "execute_result"
    }
   ],
   "source": [
    "(\"this is taple\",)"
   ]
  },
  {
   "cell_type": "code",
   "execution_count": 30,
   "metadata": {},
   "outputs": [
    {
     "data": {
      "text/plain": [
       "1958"
      ]
     },
     "execution_count": 30,
     "metadata": {},
     "output_type": "execute_result"
    }
   ],
   "source": [
    "rndm[1]"
   ]
  },
  {
   "cell_type": "code",
   "execution_count": 31,
   "metadata": {},
   "outputs": [
    {
     "data": {
      "text/plain": [
       "True"
      ]
     },
     "execution_count": 31,
     "metadata": {},
     "output_type": "execute_result"
    }
   ],
   "source": [
    "'M.Jackson' in rndm"
   ]
  },
  {
   "cell_type": "markdown",
   "metadata": {},
   "source": [
    "<p>辞書</p>\n",
    "<p>2つのオブジェクトを関連付けて保持するコンテナ</p>\n",
    "<p>「キー」と「ヴァリュー」で関連付けて保持。(ヴァリューでキーを取り出すことはできない。キーでヴァリューを取り出す)</p>"
   ]
  },
  {
   "cell_type": "code",
   "execution_count": 32,
   "metadata": {},
   "outputs": [
    {
     "data": {
      "text/plain": [
       "{}"
      ]
     },
     "execution_count": 32,
     "metadata": {},
     "output_type": "execute_result"
    }
   ],
   "source": [
    "my_dict = {}\n",
    "my_dict"
   ]
  },
  {
   "cell_type": "code",
   "execution_count": 34,
   "metadata": {},
   "outputs": [
    {
     "data": {
      "text/plain": [
       "{'apple': 'red', 'banana': 'yellow'}"
      ]
     },
     "execution_count": 34,
     "metadata": {},
     "output_type": "execute_result"
    }
   ],
   "source": [
    "fruits = {\"apple\" : \"red\",\n",
    "          \"banana\" : \"yellow\"}\n",
    "fruits"
   ]
  },
  {
   "cell_type": "code",
   "execution_count": 38,
   "metadata": {},
   "outputs": [
    {
     "name": "stdout",
     "output_type": "stream",
     "text": [
      "fun\n",
      "gates\n",
      "1776\n",
      "{'code': 'fun', 'bill': 'gates', 'founded': 1776}\n"
     ]
    }
   ],
   "source": [
    "facts = dict()\n",
    "facts[\"code\"] = \"fun\"\n",
    "print(facts[\"code\"])\n",
    "\n",
    "facts[\"bill\"] = \"gates\"\n",
    "print(facts[\"bill\"])\n",
    "\n",
    "facts[\"founded\"] = 1776\n",
    "print(facts[\"founded\"])\n",
    "\n",
    "print(facts)"
   ]
  },
  {
   "cell_type": "code",
   "execution_count": 39,
   "metadata": {},
   "outputs": [
    {
     "data": {
      "text/plain": [
       "True"
      ]
     },
     "execution_count": 39,
     "metadata": {},
     "output_type": "execute_result"
    }
   ],
   "source": [
    "\"code\" in facts"
   ]
  },
  {
   "cell_type": "code",
   "execution_count": 40,
   "metadata": {},
   "outputs": [
    {
     "data": {
      "text/plain": [
       "{'bill': 'gates', 'founded': 1776}"
      ]
     },
     "execution_count": 40,
     "metadata": {},
     "output_type": "execute_result"
    }
   ],
   "source": [
    "del facts[\"code\"]\n",
    "facts"
   ]
  },
  {
   "cell_type": "code",
   "execution_count": 41,
   "metadata": {},
   "outputs": [
    {
     "name": "stdout",
     "output_type": "stream",
     "text": [
      "number here2\n",
      "blue\n"
     ]
    }
   ],
   "source": [
    "songs = {\"1\": \"fun\",\n",
    "        \"2\" : \"blue\" ,\n",
    "        \"3\" : \"me\" ,\n",
    "        \"4\" : \"floor\" ,\n",
    "        \"5\" : \"live\"}\n",
    "\n",
    "n = input('number here')\n",
    "if n in songs:\n",
    "    song = songs[n]\n",
    "    print(song)\n",
    "else:\n",
    "    print('no song')"
   ]
  },
  {
   "cell_type": "code",
   "execution_count": 42,
   "metadata": {},
   "outputs": [
    {
     "name": "stdout",
     "output_type": "stream",
     "text": [
      "[['カニ', 'ジェイ', 'エミネム'], ['ボブ', 'ビートルズ', 'レッド'], ['ゼッズ', 'テイス', 'テイラー']]\n"
     ]
    }
   ],
   "source": [
    "lists = []\n",
    "\n",
    "rap = [\"カニ\", \"ジェイ\", \"エミネム\"]\n",
    "rock = [\"ボブ\", \"ビートルズ\", \"レッド\"]\n",
    "djs = [\"ゼッズ\", \"テイス\", \"テイラー\"]\n",
    "\n",
    "lists.append(rap)\n",
    "lists.append(rock)\n",
    "lists.append(djs)\n",
    "\n",
    "print(lists)"
   ]
  },
  {
   "cell_type": "code",
   "execution_count": null,
   "metadata": {},
   "outputs": [],
   "source": [
    "ny = {\n",
    "    \"座標\": (40.7128, 3443.323),\n",
    "    \"セレブ\": [\"アレン\", \"ジェイ\", \"ベーコン\"],\n",
    "    \"事実\" : {\n",
    "        \"州\": \"ニューヨーク\"\n",
    "        \"国\": \"アメリカ\"\n",
    "    },\n",
    "}\n"
   ]
  },
  {
   "cell_type": "code",
   "execution_count": 43,
   "metadata": {},
   "outputs": [
    {
     "name": "stdout",
     "output_type": "stream",
     "text": [
      "my_dic's keyheight\n",
      "you know me\n"
     ]
    }
   ],
   "source": [
    "musicians = [\"ed\", \"blue\", \"charie\"]\n",
    "my_plase = (123.33, 132.443)\n",
    "my_dic = {\"height\": 165,\n",
    "         \"color\":\"blue\",\n",
    "         \"auther\":\"momo\"}\n",
    "keyyy = input(\"my_dic's key\")\n",
    "if keyyy in my_dic:\n",
    "    print('you know me')\n",
    "else:\n",
    "    print('who are you')"
   ]
  },
  {
   "cell_type": "markdown",
   "metadata": {},
   "source": [
    "<p>set</p>\n",
    "<p>1つのセットの中に同じ値は1つのみ登録可能で、重複のないデータ型</p>"
   ]
  },
  {
   "cell_type": "code",
   "execution_count": 44,
   "metadata": {},
   "outputs": [
    {
     "name": "stdout",
     "output_type": "stream",
     "text": [
      "set()\n"
     ]
    }
   ],
   "source": [
    "empty_set = set()\n",
    "print(empty_set)"
   ]
  },
  {
   "cell_type": "code",
   "execution_count": 46,
   "metadata": {},
   "outputs": [
    {
     "data": {
      "text/plain": [
       "True"
      ]
     },
     "execution_count": 46,
     "metadata": {},
     "output_type": "execute_result"
    }
   ],
   "source": [
    "set_ = {1,3,24,53,4} #辞書と同じカッコを利用\n",
    "1 in set_"
   ]
  },
  {
   "cell_type": "code",
   "execution_count": 49,
   "metadata": {},
   "outputs": [
    {
     "name": "stdout",
     "output_type": "stream",
     "text": [
      "1\n",
      "3\n",
      "4\n",
      "53\n",
      "24\n"
     ]
    }
   ],
   "source": [
    "for i in set_:\n",
    "    print(i)"
   ]
  },
  {
   "cell_type": "code",
   "execution_count": 50,
   "metadata": {},
   "outputs": [],
   "source": [
    "# セットは中身を順序立てて持たない（リストではない）ので\n",
    "# set_[0] のような記述はできない"
   ]
  },
  {
   "cell_type": "markdown",
   "metadata": {},
   "source": [
    "### Chap 6\n",
    "文字列操作"
   ]
  },
  {
   "cell_type": "code",
   "execution_count": 51,
   "metadata": {},
   "outputs": [
    {
     "data": {
      "text/plain": [
       "'\\nline 1\\nline 2\\nlinw 3\\n'"
      ]
     },
     "execution_count": 51,
     "metadata": {},
     "output_type": "execute_result"
    }
   ],
   "source": [
    "\"\"\"\n",
    "line 1\n",
    "line 2\n",
    "linw 3\n",
    "\"\"\""
   ]
  },
  {
   "cell_type": "code",
   "execution_count": 57,
   "metadata": {},
   "outputs": [
    {
     "name": "stdout",
     "output_type": "stream",
     "text": [
      "k\n",
      "f\n",
      "k\n",
      "fka\n"
     ]
    }
   ],
   "source": [
    "auther = \"kafka\"\n",
    "print(auther[0])\n",
    "print(auther[2])\n",
    "print(auther[-2])\n",
    "print(auther[2:])\n",
    "#　これがイラテブル"
   ]
  },
  {
   "cell_type": "code",
   "execution_count": null,
   "metadata": {},
   "outputs": [],
   "source": [
    "# 文字列はその一部を別の文字に入れ替えられない。"
   ]
  },
  {
   "cell_type": "code",
   "execution_count": 61,
   "metadata": {},
   "outputs": [
    {
     "name": "stdout",
     "output_type": "stream",
     "text": [
      "catinhat\n",
      "cat in the hat\n"
     ]
    }
   ],
   "source": [
    "print(\"cat\" + \"in\" + \"hat\")\n",
    "# 連結\n",
    "print(\"cat\" + \" in\" +\" the\" + \" hat\")"
   ]
  },
  {
   "cell_type": "code",
   "execution_count": 64,
   "metadata": {},
   "outputs": [
    {
     "name": "stdout",
     "output_type": "stream",
     "text": [
      "cat cat cat \n"
     ]
    },
    {
     "data": {
      "text/plain": [
       "'Cat'"
      ]
     },
     "execution_count": 64,
     "metadata": {},
     "output_type": "execute_result"
    }
   ],
   "source": [
    "print(\"cat \" * 3 )\n",
    "\"cat\".capitalize()"
   ]
  },
  {
   "cell_type": "code",
   "execution_count": 65,
   "metadata": {},
   "outputs": [
    {
     "data": {
      "text/plain": [
       "'Hello, William'"
      ]
     },
     "execution_count": 65,
     "metadata": {},
     "output_type": "execute_result"
    }
   ],
   "source": [
    "# format メソッド、　文字列の一部をあとで穴埋めして新しい文字列を返せる\n",
    "\"Hello, {}\".format(\"William\")"
   ]
  },
  {
   "cell_type": "code",
   "execution_count": 66,
   "metadata": {},
   "outputs": [
    {
     "data": {
      "text/plain": [
       "'hello, Bob'"
      ]
     },
     "execution_count": 66,
     "metadata": {},
     "output_type": "execute_result"
    }
   ],
   "source": [
    "name = \"Bob\"\n",
    "\"hello, {}\".format(name)"
   ]
  },
  {
   "cell_type": "code",
   "execution_count": 71,
   "metadata": {},
   "outputs": [
    {
     "data": {
      "text/plain": [
       "'I knew the auther was コナン・ドリル today, 2019'"
      ]
     },
     "execution_count": 71,
     "metadata": {},
     "output_type": "execute_result"
    }
   ],
   "source": [
    "auther = \"コナン・ドリル\"\n",
    "year_now = 2019\n",
    "\"I knew the auther was {} today, {}\".format(auther, year_now)"
   ]
  },
  {
   "cell_type": "code",
   "execution_count": 72,
   "metadata": {},
   "outputs": [
    {
     "name": "stdout",
     "output_type": "stream",
     "text": [
      "whataa\n",
      "whenbb\n",
      "aa は bb で。\n"
     ]
    }
   ],
   "source": [
    "what = input('what')\n",
    "when = input('when')\n",
    "r = \"{} は {} で。\".format(what, when)\n",
    "print(r)"
   ]
  },
  {
   "cell_type": "code",
   "execution_count": 73,
   "metadata": {},
   "outputs": [
    {
     "data": {
      "text/plain": [
       "['水余り', '補給不要']"
      ]
     },
     "execution_count": 73,
     "metadata": {},
     "output_type": "execute_result"
    }
   ],
   "source": [
    "\"水余り。補給不要\".split(\"。\")"
   ]
  },
  {
   "cell_type": "code",
   "execution_count": 74,
   "metadata": {},
   "outputs": [
    {
     "data": {
      "text/plain": [
       "'a+b+c'"
      ]
     },
     "execution_count": 74,
     "metadata": {},
     "output_type": "execute_result"
    }
   ],
   "source": [
    "first_three = \"abc\"\n",
    "result = \"+\".join(first_three)\n",
    "result"
   ]
  },
  {
   "cell_type": "code",
   "execution_count": 75,
   "metadata": {},
   "outputs": [
    {
     "data": {
      "text/plain": [
       "'the fox jumped over the fence .'"
      ]
     },
     "execution_count": 75,
     "metadata": {},
     "output_type": "execute_result"
    }
   ],
   "source": [
    "words = [\"the\", \"fox\", \"jumped\", \"over\", \"the\", \"fence\", \".\" ]\n",
    "one = \" \".join(words)\n",
    "one"
   ]
  },
  {
   "cell_type": "code",
   "execution_count": 76,
   "metadata": {},
   "outputs": [
    {
     "data": {
      "text/plain": [
       "'s'"
      ]
     },
     "execution_count": 76,
     "metadata": {},
     "output_type": "execute_result"
    }
   ],
   "source": [
    "s = \"    s      \"\n",
    "s = s.strip()\n",
    "s"
   ]
  },
  {
   "cell_type": "code",
   "execution_count": 78,
   "metadata": {},
   "outputs": [
    {
     "data": {
      "text/plain": [
       "'All @nim@ls @re equ@l.'"
      ]
     },
     "execution_count": 78,
     "metadata": {},
     "output_type": "execute_result"
    }
   ],
   "source": [
    "equ = \"All animals are equal.\"\n",
    "equ = equ.replace(\"a\", \"@\")\n",
    "equ"
   ]
  },
  {
   "cell_type": "code",
   "execution_count": 81,
   "metadata": {},
   "outputs": [
    {
     "name": "stdout",
     "output_type": "stream",
     "text": [
      "not found.\n"
     ]
    }
   ],
   "source": [
    "try:\n",
    "    \"animals\".index(\"z\")\n",
    "except:\n",
    "    print('not found.')"
   ]
  },
  {
   "cell_type": "code",
   "execution_count": 82,
   "metadata": {},
   "outputs": [
    {
     "data": {
      "text/plain": [
       "True"
      ]
     },
     "execution_count": 82,
     "metadata": {},
     "output_type": "execute_result"
    }
   ],
   "source": [
    "\"cat\" in \"cat in the hat\""
   ]
  },
  {
   "cell_type": "code",
   "execution_count": 84,
   "metadata": {},
   "outputs": [
    {
     "data": {
      "text/plain": [
       "('カ', 'ミ', 'ュ')"
      ]
     },
     "execution_count": 84,
     "metadata": {},
     "output_type": "execute_result"
    }
   ],
   "source": [
    "a = \"カミュ\"\n",
    "a[0], a[1], a[2]"
   ]
  },
  {
   "cell_type": "code",
   "execution_count": 85,
   "metadata": {},
   "outputs": [
    {
     "name": "stdout",
     "output_type": "stream",
     "text": [
      "what手紙\n",
      "who自分\n"
     ]
    },
    {
     "data": {
      "text/plain": [
       "'私は昨日手紙を書いて自分に送った'"
      ]
     },
     "execution_count": 85,
     "metadata": {},
     "output_type": "execute_result"
    }
   ],
   "source": [
    "a = input('what')\n",
    "b = input('who')\n",
    "\"私は昨日{}を書いて{}に送った\".format(a,b)"
   ]
  },
  {
   "cell_type": "code",
   "execution_count": 87,
   "metadata": {},
   "outputs": [
    {
     "data": {
      "text/plain": [
       "'Albegkkaljg  lakfje '"
      ]
     },
     "execution_count": 87,
     "metadata": {},
     "output_type": "execute_result"
    }
   ],
   "source": [
    "\"albegkkaljg  lakfje \".capitalize()"
   ]
  },
  {
   "cell_type": "code",
   "execution_count": 88,
   "metadata": {},
   "outputs": [
    {
     "data": {
      "text/plain": [
       "['who', 'what', 'when']"
      ]
     },
     "execution_count": 88,
     "metadata": {},
     "output_type": "execute_result"
    }
   ],
   "source": [
    "\"who,what,when\".split(\",\")"
   ]
  },
  {
   "cell_type": "code",
   "execution_count": 89,
   "metadata": {},
   "outputs": [
    {
     "data": {
      "text/plain": [
       "'the fox jumped over the fence .'"
      ]
     },
     "execution_count": 89,
     "metadata": {},
     "output_type": "execute_result"
    }
   ],
   "source": [
    "words = [\"the\", \"fox\", \"jumped\", \"over\", \"the\", \"fence\", \".\" ]\n",
    "one = \" \".join(words)\n",
    "one"
   ]
  },
  {
   "cell_type": "code",
   "execution_count": 92,
   "metadata": {},
   "outputs": [
    {
     "data": {
      "text/plain": [
       "'the f$$x jumped $$ver the fence .'"
      ]
     },
     "execution_count": 92,
     "metadata": {},
     "output_type": "execute_result"
    }
   ],
   "source": [
    "one.replace(\"o\",\"$$\")"
   ]
  },
  {
   "cell_type": "code",
   "execution_count": 93,
   "metadata": {},
   "outputs": [
    {
     "data": {
      "text/plain": [
       "2"
      ]
     },
     "execution_count": 93,
     "metadata": {},
     "output_type": "execute_result"
    }
   ],
   "source": [
    "\"hemingway\".index(\"m\")"
   ]
  },
  {
   "cell_type": "code",
   "execution_count": 96,
   "metadata": {},
   "outputs": [
    {
     "data": {
      "text/plain": [
       "\"kkdjrl'fkajfel'fkajeklf\""
      ]
     },
     "execution_count": 96,
     "metadata": {},
     "output_type": "execute_result"
    }
   ],
   "source": [
    "'kkdjrl\\'fkajfel\\'fkajeklf'"
   ]
  },
  {
   "cell_type": "code",
   "execution_count": 99,
   "metadata": {},
   "outputs": [
    {
     "name": "stdout",
     "output_type": "stream",
     "text": [
      "kkdjrl\n",
      "fkajfel\n",
      "fkajeklf\n"
     ]
    }
   ],
   "source": [
    "print('kkdjrl\\nfkajfel\\nfkajeklf')"
   ]
  },
  {
   "cell_type": "code",
   "execution_count": 100,
   "metadata": {},
   "outputs": [
    {
     "data": {
      "text/plain": [
       "'threethreethree'"
      ]
     },
     "execution_count": 100,
     "metadata": {},
     "output_type": "execute_result"
    }
   ],
   "source": [
    "\"three\" + \"three\" + \"three\""
   ]
  },
  {
   "cell_type": "code",
   "execution_count": 101,
   "metadata": {},
   "outputs": [
    {
     "data": {
      "text/plain": [
       "'three three three '"
      ]
     },
     "execution_count": 101,
     "metadata": {},
     "output_type": "execute_result"
    }
   ],
   "source": [
    "\"three \" * 3"
   ]
  },
  {
   "cell_type": "code",
   "execution_count": 102,
   "metadata": {},
   "outputs": [
    {
     "data": {
      "text/plain": [
       "['今日の天気は', 'あれです。']"
      ]
     },
     "execution_count": 102,
     "metadata": {},
     "output_type": "execute_result"
    }
   ],
   "source": [
    "\"今日の天気は、あれです。\".split(\"、\")"
   ]
  },
  {
   "cell_type": "markdown",
   "metadata": {},
   "source": [
    "<h3>Chap 7</h3>"
   ]
  },
  {
   "cell_type": "code",
   "execution_count": 103,
   "metadata": {},
   "outputs": [
    {
     "name": "stdout",
     "output_type": "stream",
     "text": [
      "T\n",
      "e\n",
      "d\n"
     ]
    }
   ],
   "source": [
    "name = \"Ted\"\n",
    "for i in name:\n",
    "    print(i)"
   ]
  },
  {
   "cell_type": "code",
   "execution_count": 104,
   "metadata": {},
   "outputs": [
    {
     "name": "stdout",
     "output_type": "stream",
     "text": [
      "GOT\n",
      "Narcos\n",
      "Vice\n"
     ]
    }
   ],
   "source": [
    "shows = [\"GOT\", \"Narcos\", \"Vice\"]\n",
    "for i in shows:\n",
    "    print(i)"
   ]
  },
  {
   "cell_type": "code",
   "execution_count": 105,
   "metadata": {},
   "outputs": [
    {
     "name": "stdout",
     "output_type": "stream",
     "text": [
      "['GOT', 'NARCOS', 'VICE']\n"
     ]
    }
   ],
   "source": [
    "tv = [\"GOT\", \"Narcos\", \"Vice\"]\n",
    "i = 0\n",
    "for show in tv:\n",
    "    new = tv[i]\n",
    "    new = new.upper()\n",
    "    tv[i] = new\n",
    "    i += 1\n",
    "\n",
    "print(tv)"
   ]
  },
  {
   "cell_type": "code",
   "execution_count": 107,
   "metadata": {},
   "outputs": [
    {
     "name": "stdout",
     "output_type": "stream",
     "text": [
      "['GOT', 'NARCOS', 'VICE']\n"
     ]
    }
   ],
   "source": [
    "# He enumerated the reasons for his leaving the party. 列挙する、数えあげる\n",
    "\n",
    "tv = [\"GOT\", \"Narcos\", \"Vice\"]\n",
    "for i, new in enumerate(tv):\n",
    "    new = tv[i]\n",
    "    new = new.upper()\n",
    "    tv[i] = new\n",
    "    \n",
    "print(tv)"
   ]
  },
  {
   "cell_type": "code",
   "execution_count": 112,
   "metadata": {},
   "outputs": [
    {
     "name": "stdout",
     "output_type": "stream",
     "text": [
      "['GOT', 'NARCOS', 'VICE', 'ARRET', 'FRIENDS', 'ALWAYS']\n"
     ]
    }
   ],
   "source": [
    "tv = [\"GOT\", \"Narcos\", \"Vice\"]\n",
    "coms = [\"arret\", \"friends\", \"always\"]\n",
    "all_shows = []\n",
    "\n",
    "for show in tv:\n",
    "    show = show.upper()\n",
    "    all_shows.append(show)\n",
    "\n",
    "for show in coms:\n",
    "    show = show.upper()\n",
    "    all_shows.append(show)\n",
    "    \n",
    "print(all_shows)"
   ]
  },
  {
   "cell_type": "code",
   "execution_count": 116,
   "metadata": {},
   "outputs": [
    {
     "name": "stdout",
     "output_type": "stream",
     "text": [
      "10\n",
      "9\n",
      "8\n",
      "7\n",
      "6\n",
      "5\n",
      "4\n",
      "3\n",
      "2\n",
      "1\n",
      "happy new year\n"
     ]
    }
   ],
   "source": [
    "x = 10\n",
    "while x > 0:\n",
    "    print(\"{}\".format(x))\n",
    "    x -= 1\n",
    "print(\"happy new year\")"
   ]
  },
  {
   "cell_type": "code",
   "execution_count": 122,
   "metadata": {},
   "outputs": [
    {
     "name": "stdout",
     "output_type": "stream",
     "text": [
      "0\n",
      "1\n"
     ]
    }
   ],
   "source": [
    "for i in range(0,2):\n",
    "    print(i)"
   ]
  },
  {
   "cell_type": "code",
   "execution_count": 123,
   "metadata": {},
   "outputs": [
    {
     "name": "stdout",
     "output_type": "stream",
     "text": [
      "0\n"
     ]
    }
   ],
   "source": [
    "for i in range(0, 2):\n",
    "    print(i)\n",
    "    break"
   ]
  },
  {
   "cell_type": "code",
   "execution_count": 125,
   "metadata": {},
   "outputs": [
    {
     "name": "stdout",
     "output_type": "stream",
     "text": [
      "type q to quit\n",
      "what  kk\n",
      "type q to quit\n",
      "what color  kk\n",
      "type q to quit\n",
      "what questkk\n",
      "type q to quit\n",
      "what  dd\n",
      "type q to quit\n",
      "what color  q\n"
     ]
    }
   ],
   "source": [
    "qs = [\"what  \",\n",
    "     \"what color  \", \n",
    "     \"what quest\"]\n",
    "n = 0\n",
    "while True:\n",
    "    print('type q to quit')\n",
    "    a = input(qs[n])\n",
    "    if a == \"q\":\n",
    "        break\n",
    "    n = (n + 1) % 3"
   ]
  },
  {
   "cell_type": "code",
   "execution_count": 2,
   "metadata": {},
   "outputs": [
    {
     "name": "stdout",
     "output_type": "stream",
     "text": [
      "1\n",
      "2\n",
      "4\n",
      "5\n"
     ]
    }
   ],
   "source": [
    "for i in range(1,6):\n",
    "    if i == 3:\n",
    "        continue\n",
    "    print(i)"
   ]
  },
  {
   "cell_type": "code",
   "execution_count": 3,
   "metadata": {},
   "outputs": [
    {
     "name": "stdout",
     "output_type": "stream",
     "text": [
      "1\n",
      "2\n",
      "4\n",
      "5\n"
     ]
    }
   ],
   "source": [
    "i = 1\n",
    "while i <= 5:\n",
    "    if i == 3:\n",
    "        i += 1\n",
    "        continue\n",
    "    print(i)\n",
    "    i += 1"
   ]
  },
  {
   "cell_type": "code",
   "execution_count": 4,
   "metadata": {},
   "outputs": [
    {
     "name": "stdout",
     "output_type": "stream",
     "text": [
      "1\n",
      "a\n",
      "b\n",
      "c\n",
      "2\n",
      "a\n",
      "b\n",
      "c\n"
     ]
    }
   ],
   "source": [
    "for i in range(1,3):\n",
    "    print(i)\n",
    "    for letter in [\"a\", \"b\", \"c\"]:\n",
    "        print(letter)"
   ]
  },
  {
   "cell_type": "code",
   "execution_count": 3,
   "metadata": {},
   "outputs": [
    {
     "name": "stdout",
     "output_type": "stream",
     "text": [
      "y n y\n",
      "1\n",
      "2\n",
      "3\n",
      "4\n",
      "5\n",
      "y n n\n"
     ]
    }
   ],
   "source": [
    "while input('y n ') != \"n\":\n",
    "    for i in range (1,6):\n",
    "        print(i)"
   ]
  },
  {
   "cell_type": "code",
   "execution_count": 4,
   "metadata": {},
   "outputs": [
    {
     "name": "stdout",
     "output_type": "stream",
     "text": [
      "ウォー\n",
      "antra\n",
      "the\n",
      "van\n"
     ]
    }
   ],
   "source": [
    "list = [\"ウォー\", \"antra\", \"the\", \"van\"]\n",
    "for i in list:\n",
    "    print(i)"
   ]
  },
  {
   "cell_type": "code",
   "execution_count": 8,
   "metadata": {},
   "outputs": [
    {
     "name": "stdout",
     "output_type": "stream",
     "text": [
      "[25, 26, 27, 28, 29, 30, 31, 32, 33, 34, 35, 36, 37, 38, 39, 40, 41, 42, 43, 44, 45, 46, 47, 48, 49, 50]\n"
     ]
    }
   ],
   "source": [
    "a= []\n",
    "for i in range(25, 51):\n",
    "    a.append(i)\n",
    "print(a)"
   ]
  },
  {
   "cell_type": "code",
   "execution_count": 23,
   "metadata": {},
   "outputs": [
    {
     "name": "stdout",
     "output_type": "stream",
     "text": [
      "number q\n"
     ]
    }
   ],
   "source": [
    "nlist = [1,2,3]\n",
    "n = input(\"number \")\n",
    "while n != \"q\":\n",
    "    nl = random.choice(nlist)\n",
    "    if nl == n:\n",
    "        print(\"same, yeah\", nl, n)\n",
    "        break\n",
    "    else:\n",
    "        print('try again', nl, n)\n",
    "        n = input('number 1 to 3 or q ')"
   ]
  },
  {
   "cell_type": "code",
   "execution_count": 29,
   "metadata": {},
   "outputs": [
    {
     "name": "stdout",
     "output_type": "stream",
     "text": [
      "[1, 2, 3, 4, 5, 2, 4, 6, 8, 10, 3, 6, 9, 12, 15, 4, 8, 12, 16, 20]\n"
     ]
    }
   ],
   "source": [
    "list1 = [1,2,3,4]\n",
    "list2 = [1,2,3,4,5]\n",
    "added = []\n",
    "for i in list1:\n",
    "    for ii in list2:\n",
    "        added.append(i*ii)\n",
    "print(added)"
   ]
  },
  {
   "cell_type": "markdown",
   "metadata": {},
   "source": [
    "### chap 8\n",
    "モジュール：分割したコードを書いておくファイルそれぞれ<br>\n",
    "コードを集めたpythonファイル<br>\n",
    "あるモジュールから別のモジュールが使える"
   ]
  },
  {
   "cell_type": "code",
   "execution_count": 30,
   "metadata": {},
   "outputs": [],
   "source": [
    "import math"
   ]
  },
  {
   "cell_type": "code",
   "execution_count": 36,
   "metadata": {},
   "outputs": [
    {
     "name": "stdout",
     "output_type": "stream",
     "text": [
      "8.0\n",
      "8\n"
     ]
    }
   ],
   "source": [
    "print(math.pow(2,3))\n",
    "print(2 ** 3)"
   ]
  },
  {
   "cell_type": "code",
   "execution_count": 38,
   "metadata": {},
   "outputs": [],
   "source": [
    "import random\n",
    "import statistics\n",
    "import keyword"
   ]
  },
  {
   "cell_type": "code",
   "execution_count": 39,
   "metadata": {},
   "outputs": [
    {
     "data": {
      "text/plain": [
       "True"
      ]
     },
     "execution_count": 39,
     "metadata": {},
     "output_type": "execute_result"
    }
   ],
   "source": [
    "keyword.iskeyword('for')"
   ]
  },
  {
   "cell_type": "markdown",
   "metadata": {},
   "source": [
    "### Chap 9\n",
    "ファイル,,,,Delimiter デリミタ　区切り文字"
   ]
  },
  {
   "cell_type": "code",
   "execution_count": 6,
   "metadata": {},
   "outputs": [],
   "source": [
    "st = open(\"st.txt\", \"w\", encoding='utf-8')\n",
    "st.write('heiheiheihei, こんにちは')\n",
    "st.close()"
   ]
  },
  {
   "cell_type": "code",
   "execution_count": 7,
   "metadata": {},
   "outputs": [],
   "source": [
    "with open(\"st.txt\", \"w\", encoding='utf-8') as f:\n",
    "    f.write('hey yoo')"
   ]
  },
  {
   "cell_type": "code",
   "execution_count": 12,
   "metadata": {},
   "outputs": [],
   "source": [
    "import csv\n",
    "with open(\"st.csv\", \"w\", newline=\"\", encoding=\"utf-8\") as f:\n",
    "    w = csv.writer(f, delimiter=',')\n",
    "    w.writerow([\"one\", \"two\", \"three\"])\n",
    "    w.writerow([\"four\", \"five\", \"six\"])"
   ]
  },
  {
   "cell_type": "code",
   "execution_count": 13,
   "metadata": {},
   "outputs": [
    {
     "name": "stdout",
     "output_type": "stream",
     "text": [
      "one,two,three\n",
      "four,five,six\n"
     ]
    }
   ],
   "source": [
    "with open(\"st.csv\", \"r\") as f:\n",
    "    r = csv.reader(f, delimiter=\",\")\n",
    "    for row in r:\n",
    "        print(\",\".join(row))"
   ]
  },
  {
   "cell_type": "code",
   "execution_count": 26,
   "metadata": {},
   "outputs": [
    {
     "name": "stdout",
     "output_type": "stream",
     "text": [
      "['one', 'two', 'three']\n",
      "['four', 'five', 'six']\n"
     ]
    }
   ],
   "source": [
    "with open (\"st.csv\", \"r\") as f:\n",
    "    r = csv.reader(f, delimiter=\",\")\n",
    "    for row in r:\n",
    "        print(row)"
   ]
  },
  {
   "cell_type": "markdown",
   "metadata": {},
   "source": [
    "###  Chap 10\n",
    "ハングマン"
   ]
  },
  {
   "cell_type": "code",
   "execution_count": 6,
   "metadata": {},
   "outputs": [
    {
     "ename": "SyntaxError",
     "evalue": "invalid syntax (<ipython-input-6-aec0e4290969>, line 31)",
     "output_type": "error",
     "traceback": [
      "\u001b[1;36m  File \u001b[1;32m\"<ipython-input-6-aec0e4290969>\"\u001b[1;36m, line \u001b[1;32m31\u001b[0m\n\u001b[1;33m    if not win:\u001b[0m\n\u001b[1;37m              ^\u001b[0m\n\u001b[1;31mSyntaxError\u001b[0m\u001b[1;31m:\u001b[0m invalid syntax\n"
     ]
    }
   ],
   "source": [
    "def hangman(word):\n",
    "    wrong = 0\n",
    "    stages = [\"\",\n",
    "             \"______       \",\n",
    "             \"|　　　　　　\",\n",
    "             \"|     |      \",\n",
    "             \"|     0      \",\n",
    "             \"|    /|\\     \",\n",
    "             \"|    / \\     \",\n",
    "             \"|            \"\n",
    "             ]\n",
    "    rletters = list(word) # word の文字列を1文字ずつの要素に分解したリスト\n",
    "    board = [\"_\"] * len(word)\n",
    "    win = false\n",
    "    print('ハングマンへようこそ')\n",
    "    \n",
    "    while wrong < len(stages) -1:\n",
    "        print(\"\\n\")\n",
    "        msg = \"1文字を予測 \"\n",
    "        char = input(msg)\n",
    "        if char in rletters:\n",
    "            cind = rletters.index(char)\n",
    "            board[cind] = char\n",
    "            rletters[cind] = \"$\" #正解した文字を置き換え、同じ文字が複数あった場合に対応\n",
    "        else:\n",
    "            wrong += 1\n",
    "        print(\" \".joing(board))\n",
    "        e = wrong + 1\n",
    "        print('\\n'.join(stages[0:e])\n",
    "        if \"_\" not in board:\n",
    "              print('you win')\n",
    "              print(' '.join(board))\n",
    "              win = True\n",
    "              break\n",
    "    if not win:\n",
    "        print('\\n'.join(stages[0:wrong+1]))\n",
    "        print(\"you lose, answer is {}.\".format(word))\n",
    "              \n",
    "hangman(\"cat\")"
   ]
  },
  {
   "cell_type": "code",
   "execution_count": 4,
   "metadata": {},
   "outputs": [],
   "source": [
    "if \"aa\" not in \"aa\":\n",
    "    print(\"aa\")"
   ]
  },
  {
   "cell_type": "code",
   "execution_count": 20,
   "metadata": {},
   "outputs": [
    {
     "name": "stdout",
     "output_type": "stream",
     "text": [
      "['_', '_', '_']\n"
     ]
    }
   ],
   "source": [
    "boardd = [\"_\"] * 3\n",
    "print(boardd)"
   ]
  },
  {
   "cell_type": "code",
   "execution_count": 21,
   "metadata": {},
   "outputs": [
    {
     "name": "stdout",
     "output_type": "stream",
     "text": [
      "['_', 'f', '_']\n",
      "f\n"
     ]
    }
   ],
   "source": [
    "board = [\"_\"]*3\n",
    "board2 = board[1] = \"f\"\n",
    "print(board)\n",
    "print(board2)"
   ]
  },
  {
   "cell_type": "code",
   "execution_count": 17,
   "metadata": {},
   "outputs": [
    {
     "data": {
      "text/plain": [
       "0"
      ]
     },
     "execution_count": 17,
     "metadata": {},
     "output_type": "execute_result"
    }
   ],
   "source": [
    "a = \"abcde\"\n",
    "char = \"a\"\n",
    "leng = list(a)\n",
    "leng.index(char)"
   ]
  },
  {
   "cell_type": "code",
   "execution_count": 6,
   "metadata": {},
   "outputs": [
    {
     "data": {
      "text/plain": [
       "['____']"
      ]
     },
     "execution_count": 6,
     "metadata": {},
     "output_type": "execute_result"
    }
   ],
   "source": [
    "word = \"word\"\n",
    "board = [\"_\" * len(word)]\n",
    "board"
   ]
  },
  {
   "cell_type": "code",
   "execution_count": 7,
   "metadata": {},
   "outputs": [],
   "source": [
    "def increment(a):\n",
    "    return a + 1"
   ]
  },
  {
   "cell_type": "code",
   "execution_count": 8,
   "metadata": {},
   "outputs": [
    {
     "data": {
      "text/plain": [
       "2"
      ]
     },
     "execution_count": 8,
     "metadata": {},
     "output_type": "execute_result"
    }
   ],
   "source": [
    "increment(1)"
   ]
  },
  {
   "cell_type": "code",
   "execution_count": 36,
   "metadata": {},
   "outputs": [
    {
     "name": "stdout",
     "output_type": "stream",
     "text": [
      "Created\n"
     ]
    },
    {
     "data": {
      "text/plain": [
       "370"
      ]
     },
     "execution_count": 36,
     "metadata": {},
     "output_type": "execute_result"
    }
   ],
   "source": [
    "class Orange:\n",
    "    def __init__(self, w, c): # init = initialize , 初期化\n",
    "        self.weight = w\n",
    "        self.color = c\n",
    "        print(\"Created\")\n",
    "        \n",
    "    def rot(self, days, temp):  # rot これはメソッド 2つの引数を受け取り、mold を計算して　代入　「動詞」とか「計算処理された状態」イメージかな\n",
    "        \"\"\"tempは摂氏\"\"\"\n",
    "        self.mold = days * temp #インスタンス変数 mold　「具体的に何を実行させたいか」\n",
    "\n",
    "orange = Orange(200, \"orange\")\n",
    "orange.rot(10, 37)\n",
    "orange.mold # インスタンス変数を表示\n"
   ]
  },
  {
   "cell_type": "code",
   "execution_count": 44,
   "metadata": {},
   "outputs": [
    {
     "name": "stdout",
     "output_type": "stream",
     "text": [
      "<__main__.Rectangle object at 0x000001CDCB0F40F0>\n",
      "200\n",
      "100\n"
     ]
    }
   ],
   "source": [
    "class Rectangle:\n",
    "    def __init__(self, w, l):\n",
    "        self.width = w\n",
    "        self.length = l\n",
    "        \n",
    "    def area(self):\n",
    "        return self.width * self.length\n",
    "    \n",
    "    def change_size(self, w, l):\n",
    "        self.width = w\n",
    "        self.length = l\n",
    "        \n",
    "rectangele = Rectangle(10,20)\n",
    "print(rectangele)\n",
    "print(rectangele.area()) # 大文字小文字の影響を受ける\n",
    "rectangele.change_size(10, 10)\n",
    "print(rectangele.area())"
   ]
  },
  {
   "cell_type": "code",
   "execution_count": 54,
   "metadata": {},
   "outputs": [],
   "source": [
    "class Apple:\n",
    "    def __init__(self, w, l):\n",
    "        self.width = w\n",
    "        self.len = l\n",
    "    \n",
    "    def bitten_w(self, msize):\n",
    "        self.mouse_size = msize\n",
    "        return self.width - self.mouse_size\n",
    "    "
   ]
  },
  {
   "cell_type": "code",
   "execution_count": 55,
   "metadata": {},
   "outputs": [
    {
     "name": "stdout",
     "output_type": "stream",
     "text": [
      "10\n",
      "8\n"
     ]
    }
   ],
   "source": [
    "apple1 = Apple(10, 10)\n",
    "print(apple1.width)\n",
    "print(apple1.bitten_w(2))"
   ]
  },
  {
   "cell_type": "code",
   "execution_count": 58,
   "metadata": {},
   "outputs": [
    {
     "data": {
      "text/plain": [
       "314.1592653589793"
      ]
     },
     "execution_count": 58,
     "metadata": {},
     "output_type": "execute_result"
    }
   ],
   "source": [
    "import math\n",
    "\n",
    "class Circle:\n",
    "    def __init__(self,radius):\n",
    "        self.radius = radius\n",
    "        \n",
    "    def calculate_area(self):\n",
    "        return self.radius ** 2 * math.pi\n",
    "\n",
    "a_circle = Circle(10)\n",
    "a_circle.calculate_area()"
   ]
  },
  {
   "cell_type": "code",
   "execution_count": 64,
   "metadata": {},
   "outputs": [
    {
     "data": {
      "text/plain": [
       "100.0"
      ]
     },
     "execution_count": 64,
     "metadata": {},
     "output_type": "execute_result"
    }
   ],
   "source": [
    "class Triangle:\n",
    "    def __init__(self, base, height):\n",
    "        self.base = base\n",
    "        self.height = height\n",
    "        \n",
    "    def area(self):\n",
    "        return (self.base * self.height) / 2\n",
    "\n",
    "        \n",
    "        \n",
    "triangle_a = Triangle(10, 20)\n",
    "triangle_a.area()"
   ]
  },
  {
   "cell_type": "markdown",
   "metadata": {},
   "source": [
    "### Chap 13\n",
    "カプセル化、、、抽象化、、、ポリモーフィズム、、、継承"
   ]
  },
  {
   "cell_type": "code",
   "execution_count": 1,
   "metadata": {},
   "outputs": [],
   "source": [
    "class Data:\n",
    "    def __init__(self):\n",
    "        self.nums = [1,2,3,4,5]\n",
    "        \n",
    "    def change_data(self, index, n):\n",
    "        self.nums[index] = n"
   ]
  },
  {
   "cell_type": "code",
   "execution_count": 2,
   "metadata": {},
   "outputs": [
    {
     "ename": "SyntaxError",
     "evalue": "invalid syntax (<ipython-input-2-97473b24a2ba>, line 1)",
     "output_type": "error",
     "traceback": [
      "\u001b[1;36m  File \u001b[1;32m\"<ipython-input-2-97473b24a2ba>\"\u001b[1;36m, line \u001b[1;32m1\u001b[0m\n\u001b[1;33m    datata = Data(){\u001b[0m\n\u001b[1;37m                   ^\u001b[0m\n\u001b[1;31mSyntaxError\u001b[0m\u001b[1;31m:\u001b[0m invalid syntax\n"
     ]
    }
   ],
   "source": [
    "datata = Data(){\n",
    "print(datata.nums)\n",
    "datata.change_data(1,20})\n",
    "print(datata.nums)\n",
    "datata.nums[0] = 10000\n",
    "print(datata.nums)"
   ]
  },
  {
   "cell_type": "code",
   "execution_count": 3,
   "metadata": {},
   "outputs": [
    {
     "name": "stdout",
     "output_type": "stream",
     "text": [
      "20 by 25\n"
     ]
    }
   ],
   "source": [
    "class Shape:\n",
    "    def __init__(self, w, l):\n",
    "        self.width = w\n",
    "        self.len = l\n",
    "        \n",
    "    def print_size(self):\n",
    "        print(\"{} by {}\".format(self.width, self.len))\n",
    "        \n",
    "my_shape = Shape(20, 25)\n",
    "my_shape.print_size()"
   ]
  },
  {
   "cell_type": "code",
   "execution_count": 4,
   "metadata": {},
   "outputs": [
    {
     "name": "stdout",
     "output_type": "stream",
     "text": [
      "20 by 20\n"
     ]
    }
   ],
   "source": [
    "class Square(Shape):\n",
    "    pass\n",
    "\n",
    "a_square = Square(20,20)\n",
    "a_square.print_size()"
   ]
  },
  {
   "cell_type": "code",
   "execution_count": 23,
   "metadata": {},
   "outputs": [
    {
     "name": "stdout",
     "output_type": "stream",
     "text": [
      "Mick Jagger\n"
     ]
    }
   ],
   "source": [
    "class Dog:\n",
    "    def __init__(self, name, breed, owner):\n",
    "        self.name = name\n",
    "        self.breed = breed\n",
    "        self.owner = owner\n",
    "        \n",
    "class Person:\n",
    "    def __init__(self, name):\n",
    "        self.name = name\n",
    "        \n",
    "mick = Person(\"Mick Jagger\")        \n",
    "stan = Dog(\"Stanley\", \"Bulldog\", mick)\n",
    "print(stan.owner.name)"
   ]
  },
  {
   "cell_type": "code",
   "execution_count": 24,
   "metadata": {},
   "outputs": [],
   "source": [
    "class Rectangle():\n",
    "    def __init__(self, w, l, owner):\n",
    "        self.width = w\n",
    "        self.len = l\n",
    "        self.owner = owner\n",
    "        \n",
    "    def periphery(self):\n",
    "        return self.width * 2 + self.len * 2\n",
    "    \n",
    "    def change_size(self, w, l):\n",
    "        self.width = w\n",
    "        self.len = l\n"
   ]
  },
  {
   "cell_type": "code",
   "execution_count": 26,
   "metadata": {},
   "outputs": [
    {
     "name": "stdout",
     "output_type": "stream",
     "text": [
      "Takahiro\n"
     ]
    }
   ],
   "source": [
    "class Person():\n",
    "    def __init__(self, name):\n",
    "        self.name = name\n",
    "\n",
    "        \n",
    "personA = Person(\"Takahiro\")\n",
    "\n",
    "rectangle1 = Rectangle(10,15,personA)\n",
    "\n",
    "# print(rectangle1)\n",
    "# print(rectangle1.periphery())\n",
    "# rectangle1.change_size(10, 200)\n",
    "# print(rectangle1.periphery())\n",
    "\n",
    "print(rectangle1.owner.name)\n",
    "\n"
   ]
  },
  {
   "cell_type": "code",
   "execution_count": 28,
   "metadata": {},
   "outputs": [
    {
     "name": "stdout",
     "output_type": "stream",
     "text": [
      "Dibert\n"
     ]
    }
   ],
   "source": [
    "class Lion:\n",
    "    def __init__(self,name):\n",
    "        self.name = name\n",
    "        \n",
    "    def __repr__(self):  # メソッドがLionオブジェクトの名前（＝インスタンス変数 name）を返すよう変更\n",
    "        return self.name\n",
    "    \n",
    "lion = Lion(\"Dibert\")\n",
    "print(lion)"
   ]
  },
  {
   "cell_type": "code",
   "execution_count": 30,
   "metadata": {},
   "outputs": [
    {
     "name": "stdout",
     "output_type": "stream",
     "text": [
      "10\n"
     ]
    }
   ],
   "source": [
    "class AlwaysPositive():\n",
    "    def __init__(self, number):\n",
    "        self.n = number\n",
    "        \n",
    "    def __add__(self, other):\n",
    "        return abs(self.n + other.n) # + 足し算の式を評価する時に add メソッドを呼び出す absolute 絶対値にする\n",
    "    \n",
    "x = AlwaysPositive(-20)\n",
    "y = AlwaysPositive(10)\n",
    "\n",
    "print(x + y)"
   ]
  },
  {
   "cell_type": "code",
   "execution_count": 48,
   "metadata": {},
   "outputs": [],
   "source": [
    "class Card:\n",
    "    suits = [\"spades\", \"hearts\", \"diamonds\", \"clubs\"]\n",
    "    \n",
    "    values = [None, None, \n",
    "             \"2\", \"3\", \"4\", \"5\", \"6\", \"7\", \"8\", \"9\", \"10\", \"Jack\", \"Queen\", \"King\", \"Ace\"]\n",
    "    \n",
    "    def __init__(self, s, v):\n",
    "        \"\"\"スート（マーク）の値も整数\"\"\"\n",
    "        self.value = v\n",
    "        self.suit = s\n",
    "        \n",
    "    def __lt__(self, c2):\n",
    "        if self.value < c2.value:\n",
    "            return True\n",
    "        if self.value == c2.value:\n",
    "            if self.suit < c2.suit:\n",
    "                return True\n",
    "            else:\n",
    "                return False\n",
    "        return False\n",
    "    \n",
    "    def __gt__(self, c2):\n",
    "        if self.value > c2.value:\n",
    "            return True\n",
    "        if self.value == c2.value:\n",
    "            if self.suit > c2.suit:\n",
    "                return True\n",
    "            else:\n",
    "                return False\n",
    "        return False\n",
    "    \n",
    "    def __repr__(self):\n",
    "        v = self.values[self.value] + \" of \" + self.suits[self.suit]\n",
    "        return v"
   ]
  },
  {
   "cell_type": "code",
   "execution_count": 51,
   "metadata": {},
   "outputs": [
    {
     "name": "stdout",
     "output_type": "stream",
     "text": [
      "True\n",
      "False\n",
      "3 of diamonds\n"
     ]
    }
   ],
   "source": [
    "card1 = Card(4, 2)\n",
    "card2 = Card(2, 3)\n",
    "print(card1 < card2)\n",
    "print(card1 > card2)\n",
    "print(card2)"
   ]
  },
  {
   "cell_type": "code",
   "execution_count": 52,
   "metadata": {},
   "outputs": [],
   "source": [
    "from random import shuffle\n",
    "\n",
    "class Deck:\n",
    "    def __init__(self):\n",
    "        self.cards = []\n",
    "        for i in range(2,15):\n",
    "            for J in range(4):\n",
    "                self.cards.append(Card(i,j))\n",
    "        shujjle(self.cards)\n",
    "        \n",
    "    def rm_card(self):\n",
    "        if len(self.cards) == 0:\n",
    "            return\n",
    "        return self.cards.pop()"
   ]
  },
  {
   "cell_type": "code",
   "execution_count": 53,
   "metadata": {},
   "outputs": [],
   "source": [
    "class Player:\n",
    "    def __init__(self, name):\n",
    "        self.wins = 0\n",
    "        self.cards = None\n",
    "        self.name = name"
   ]
  },
  {
   "cell_type": "code",
   "execution_count": 1,
   "metadata": {},
   "outputs": [],
   "source": [
    "class Game:\n",
    "    def __init__(self):\n",
    "        name1 = input(\"　プレイヤー１の名前　\")\n",
    "        name2 = input(\"　プレイヤー２の名前　\")\n",
    "        self.deck = Deck()\n",
    "        self.p1 = Player(name1)\n",
    "        self.p2 = Player(name2)\n",
    "        \n",
    "    def wins(self, winner):\n",
    "        w = \"このラウンドは {} が勝ちました\"\n",
    "        w = w.format(winner)\n",
    "        print(w)\n",
    "        \n",
    "    def draw(self, pln, plc, p2n, p2c):\n",
    "        d = \"{} は {}、{} は {} をひきました\"\n",
    "        d = d.format(pln, plc, p2n, p2c)\n",
    "        print(d)\n",
    "        \n",
    "    def play_game(self):\n",
    "        cards = self.deck.cards\n",
    "        print(\"start game\")\n",
    "        while len(cards) >= 2:\n",
    "            m = \"q to stop, start other button\"\n",
    "            response = input(m)\n",
    "            if response == \"q\":\n",
    "                break\n",
    "            p1c = self.deck.rm_card()\n",
    "            p2c = self.deck.rm_card()\n",
    "            p1n = self.p1.name\n",
    "            p2n = self.p2.name\n",
    "            self.draw(p1n, p1c, p2n, p2c)\n",
    "            if p1c > p2c:\n",
    "                self.p1.wins += 1\n",
    "                self.wins(self.p1.name)\n",
    "            else:\n",
    "                self.p2.wins += 1\n",
    "                self.wins(self.p2.name)\n",
    "                \n",
    "        win = self.winner(self.p1, self.p2)\n",
    "        print('game set, {} won').format(win)\n",
    "        \n",
    "    def winner(self, p1, p2):\n",
    "        if p1.wins > p2.wins:\n",
    "            return p1.name\n",
    "        if p1.wins < p2.wins:\n",
    "            return p2.name\n",
    "        return \"drooooow\""
   ]
  },
  {
   "cell_type": "code",
   "execution_count": 5,
   "metadata": {},
   "outputs": [
    {
     "name": "stdout",
     "output_type": "stream",
     "text": [
      "2 bottles of beer on the wall.\n",
      "                2 bottle of beer.\n",
      "                Take one down, pass it around,\n",
      "                1 bottles of beer on the wall.\n",
      "             \n",
      "1 bottles of beer on the wall.\n",
      "                1 bottle of beer.\n",
      "                Take one down, pass it around,\n",
      "                0 bottles of beer on the wall.\n",
      "             \n",
      "No more bottles of beer on the wall.\n",
      "                 No more bottles of beer\n"
     ]
    }
   ],
   "source": [
    "def bottles_of_beer(bob):\n",
    "    \"\"\"Prints bottle of beer on the wall lyrics.\n",
    "        :param bob:Must be a positive integer.\n",
    "    \"\"\"\n",
    "    if bob < 1:\n",
    "        print(\"\"\"No more bottles of beer on the wall.\n",
    "                 No more bottles of beer\"\"\")\n",
    "        return\n",
    "    \n",
    "    tmp = bob\n",
    "    bob -= 1\n",
    "    print(\"\"\"{} bottles of beer on the wall.\n",
    "                {} bottle of beer.\n",
    "                Take one down, pass it around,\n",
    "                {} bottles of beer on the wall.\n",
    "             \"\"\".format(tmp, tmp, bob))\n",
    "    bottles_of_beer(bob)\n",
    "    \n",
    "bottles_of_beer(2)"
   ]
  },
  {
   "cell_type": "code",
   "execution_count": null,
   "metadata": {},
   "outputs": [],
   "source": []
  },
  {
   "cell_type": "code",
   "execution_count": null,
   "metadata": {},
   "outputs": [],
   "source": []
  },
  {
   "cell_type": "code",
   "execution_count": null,
   "metadata": {},
   "outputs": [],
   "source": []
  }
 ],
 "metadata": {
  "kernelspec": {
   "display_name": "Python 3",
   "language": "python",
   "name": "python3"
  },
  "language_info": {
   "codemirror_mode": {
    "name": "ipython",
    "version": 3
   },
   "file_extension": ".py",
   "mimetype": "text/x-python",
   "name": "python",
   "nbconvert_exporter": "python",
   "pygments_lexer": "ipython3",
   "version": "3.7.1"
  }
 },
 "nbformat": 4,
 "nbformat_minor": 2
}
