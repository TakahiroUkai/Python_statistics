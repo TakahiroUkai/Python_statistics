{
 "cells": [
  {
   "cell_type": "code",
   "execution_count": 1,
   "metadata": {},
   "outputs": [
    {
     "data": {
      "text/plain": [
       "'%.3f'"
      ]
     },
     "execution_count": 1,
     "metadata": {},
     "output_type": "execute_result"
    }
   ],
   "source": [
    "import numpy as np\n",
    "import scipy as sp\n",
    "%precision 3"
   ]
  },
  {
   "cell_type": "code",
   "execution_count": 2,
   "metadata": {},
   "outputs": [
    {
     "name": "stdout",
     "output_type": "stream",
     "text": [
      "40\n",
      "10\n",
      "4.0\n"
     ]
    }
   ],
   "source": [
    "fish_data = np.array([2,3,3,4,4,4,4,5,5,6])\n",
    "print(sp.sum(fish_data))\n",
    "print(len(fish_data))\n",
    "print(sp.mean(fish_data))"
   ]
  },
  {
   "cell_type": "code",
   "execution_count": 3,
   "metadata": {},
   "outputs": [
    {
     "name": "stdout",
     "output_type": "stream",
     "text": [
      "1.3333333333333333\n",
      "1.1547005383792515\n"
     ]
    }
   ],
   "source": [
    "N = len(fish_data)\n",
    "sum_value = sp.sum(fish_data)\n",
    "mu = sum_value / N\n",
    "\n",
    "# sigma_2_sample = sp.sum((fish_data - mu) ** 2) / N\n",
    "# sp.var(fish_data, ddof = 0)\n",
    "print(sp.var(fish_data, ddof = 1)) # 不変分散\n",
    "print(sp.std(fish_data, ddof= 1))"
   ]
  },
  {
   "cell_type": "markdown",
   "metadata": {},
   "source": [
    "### 標準化　データの平均を0、標準偏差を1にする"
   ]
  },
  {
   "cell_type": "code",
   "execution_count": 4,
   "metadata": {},
   "outputs": [
    {
     "name": "stdout",
     "output_type": "stream",
     "text": [
      "0.0\n",
      "1.0\n",
      "1.0\n"
     ]
    }
   ],
   "source": [
    "# データから一律に平均を引けば、平均は0になる。\n",
    "fish_data - mu\n",
    "print(sp.mean(fish_data - mu))\n",
    "\n",
    "# データを一律に標準偏差で割れば、標準偏差が1になる\n",
    "sigma2 = sp.sum((fish_data - mu) ** 2)  / (N - 1)\n",
    "sigma = sp.sqrt(sigma2)\n",
    "print(sp.std(fish_data / sigma, ddof=1))\n",
    "\n",
    "standard = (fish_data - mu) / sigma\n",
    "# print(sp.mean(standard))\n",
    "print(sp.std(standard, ddof=1))"
   ]
  },
  {
   "cell_type": "code",
   "execution_count": 5,
   "metadata": {},
   "outputs": [
    {
     "name": "stdout",
     "output_type": "stream",
     "text": [
      "6\n",
      "2\n",
      "4.0\n"
     ]
    }
   ],
   "source": [
    "print(sp.amax(fish_data))\n",
    "print(sp.amin(fish_data))\n",
    "print(sp.median(fish_data))"
   ]
  },
  {
   "cell_type": "code",
   "execution_count": 6,
   "metadata": {},
   "outputs": [
    {
     "data": {
      "text/plain": [
       "'%.3f'"
      ]
     },
     "execution_count": 6,
     "metadata": {},
     "output_type": "execute_result"
    }
   ],
   "source": [
    "import pandas as pd\n",
    "import scipy as sp\n",
    "%precision 3"
   ]
  },
  {
   "cell_type": "code",
   "execution_count": 7,
   "metadata": {},
   "outputs": [
    {
     "data": {
      "text/html": [
       "<div>\n",
       "<style scoped>\n",
       "    .dataframe tbody tr th:only-of-type {\n",
       "        vertical-align: middle;\n",
       "    }\n",
       "\n",
       "    .dataframe tbody tr th {\n",
       "        vertical-align: top;\n",
       "    }\n",
       "\n",
       "    .dataframe thead th {\n",
       "        text-align: right;\n",
       "    }\n",
       "</style>\n",
       "<table border=\"1\" class=\"dataframe\">\n",
       "  <thead>\n",
       "    <tr style=\"text-align: right;\">\n",
       "      <th></th>\n",
       "      <th>species</th>\n",
       "      <th>length</th>\n",
       "    </tr>\n",
       "  </thead>\n",
       "  <tbody>\n",
       "    <tr>\n",
       "      <th>0</th>\n",
       "      <td>A</td>\n",
       "      <td>2</td>\n",
       "    </tr>\n",
       "    <tr>\n",
       "      <th>1</th>\n",
       "      <td>A</td>\n",
       "      <td>3</td>\n",
       "    </tr>\n",
       "    <tr>\n",
       "      <th>2</th>\n",
       "      <td>A</td>\n",
       "      <td>4</td>\n",
       "    </tr>\n",
       "    <tr>\n",
       "      <th>3</th>\n",
       "      <td>B</td>\n",
       "      <td>6</td>\n",
       "    </tr>\n",
       "    <tr>\n",
       "      <th>4</th>\n",
       "      <td>B</td>\n",
       "      <td>8</td>\n",
       "    </tr>\n",
       "    <tr>\n",
       "      <th>5</th>\n",
       "      <td>B</td>\n",
       "      <td>10</td>\n",
       "    </tr>\n",
       "  </tbody>\n",
       "</table>\n",
       "</div>"
      ],
      "text/plain": [
       "  species  length\n",
       "0       A       2\n",
       "1       A       3\n",
       "2       A       4\n",
       "3       B       6\n",
       "4       B       8\n",
       "5       B      10"
      ]
     },
     "execution_count": 7,
     "metadata": {},
     "output_type": "execute_result"
    }
   ],
   "source": [
    "fish_multi = pd.DataFrame({\n",
    "    \"species\": [\"A\",\"A\",\"A\",\"B\",\"B\",\"B\"],\n",
    "    \"length\":[2,3,4,6,8,10]\n",
    "})\n",
    "fish_multi"
   ]
  },
  {
   "cell_type": "code",
   "execution_count": 8,
   "metadata": {},
   "outputs": [
    {
     "name": "stdout",
     "output_type": "stream",
     "text": [
      "         length\n",
      "species        \n",
      "A             3\n",
      "B             8\n",
      "         length\n",
      "species        \n",
      "A           1.0\n",
      "B           2.0\n"
     ]
    }
   ],
   "source": [
    "group = fish_multi.groupby(\"species\")\n",
    "print(group.mean())\n",
    "print(group.std(ddof=1))"
   ]
  },
  {
   "cell_type": "code",
   "execution_count": 9,
   "metadata": {},
   "outputs": [
    {
     "data": {
      "text/html": [
       "<div>\n",
       "<style scoped>\n",
       "    .dataframe tbody tr th:only-of-type {\n",
       "        vertical-align: middle;\n",
       "    }\n",
       "\n",
       "    .dataframe tbody tr th {\n",
       "        vertical-align: top;\n",
       "    }\n",
       "\n",
       "    .dataframe thead tr th {\n",
       "        text-align: left;\n",
       "    }\n",
       "\n",
       "    .dataframe thead tr:last-of-type th {\n",
       "        text-align: right;\n",
       "    }\n",
       "</style>\n",
       "<table border=\"1\" class=\"dataframe\">\n",
       "  <thead>\n",
       "    <tr>\n",
       "      <th></th>\n",
       "      <th colspan=\"8\" halign=\"left\">length</th>\n",
       "    </tr>\n",
       "    <tr>\n",
       "      <th></th>\n",
       "      <th>count</th>\n",
       "      <th>mean</th>\n",
       "      <th>std</th>\n",
       "      <th>min</th>\n",
       "      <th>25%</th>\n",
       "      <th>50%</th>\n",
       "      <th>75%</th>\n",
       "      <th>max</th>\n",
       "    </tr>\n",
       "    <tr>\n",
       "      <th>species</th>\n",
       "      <th></th>\n",
       "      <th></th>\n",
       "      <th></th>\n",
       "      <th></th>\n",
       "      <th></th>\n",
       "      <th></th>\n",
       "      <th></th>\n",
       "      <th></th>\n",
       "    </tr>\n",
       "  </thead>\n",
       "  <tbody>\n",
       "    <tr>\n",
       "      <th>A</th>\n",
       "      <td>3.0</td>\n",
       "      <td>3.0</td>\n",
       "      <td>1.0</td>\n",
       "      <td>2.0</td>\n",
       "      <td>2.5</td>\n",
       "      <td>3.0</td>\n",
       "      <td>3.5</td>\n",
       "      <td>4.0</td>\n",
       "    </tr>\n",
       "    <tr>\n",
       "      <th>B</th>\n",
       "      <td>3.0</td>\n",
       "      <td>8.0</td>\n",
       "      <td>2.0</td>\n",
       "      <td>6.0</td>\n",
       "      <td>7.0</td>\n",
       "      <td>8.0</td>\n",
       "      <td>9.0</td>\n",
       "      <td>10.0</td>\n",
       "    </tr>\n",
       "  </tbody>\n",
       "</table>\n",
       "</div>"
      ],
      "text/plain": [
       "        length                                    \n",
       "         count mean  std  min  25%  50%  75%   max\n",
       "species                                           \n",
       "A          3.0  3.0  1.0  2.0  2.5  3.0  3.5   4.0\n",
       "B          3.0  8.0  2.0  6.0  7.0  8.0  9.0  10.0"
      ]
     },
     "execution_count": 9,
     "metadata": {},
     "output_type": "execute_result"
    }
   ],
   "source": [
    "group.describe()"
   ]
  },
  {
   "cell_type": "code",
   "execution_count": 10,
   "metadata": {},
   "outputs": [],
   "source": [
    "shoes = pd.DataFrame({\n",
    "    \"store\":[\"Tokyo\", \"Tokyo\", \"Osaka\", \"Osaka\"],\n",
    "    \"color\":[\"blue\", \"red\", \"blue\", \"red\"],\n",
    "    \"sales\":[10,15,13,9]\n",
    "})"
   ]
  },
  {
   "cell_type": "code",
   "execution_count": 12,
   "metadata": {},
   "outputs": [
    {
     "data": {
      "text/html": [
       "<div>\n",
       "<style scoped>\n",
       "    .dataframe tbody tr th:only-of-type {\n",
       "        vertical-align: middle;\n",
       "    }\n",
       "\n",
       "    .dataframe tbody tr th {\n",
       "        vertical-align: top;\n",
       "    }\n",
       "\n",
       "    .dataframe thead th {\n",
       "        text-align: right;\n",
       "    }\n",
       "</style>\n",
       "<table border=\"1\" class=\"dataframe\">\n",
       "  <thead>\n",
       "    <tr style=\"text-align: right;\">\n",
       "      <th></th>\n",
       "      <th>store</th>\n",
       "      <th>color</th>\n",
       "      <th>sales</th>\n",
       "    </tr>\n",
       "  </thead>\n",
       "  <tbody>\n",
       "    <tr>\n",
       "      <th>0</th>\n",
       "      <td>Tokyo</td>\n",
       "      <td>blue</td>\n",
       "      <td>10</td>\n",
       "    </tr>\n",
       "    <tr>\n",
       "      <th>1</th>\n",
       "      <td>Tokyo</td>\n",
       "      <td>red</td>\n",
       "      <td>15</td>\n",
       "    </tr>\n",
       "    <tr>\n",
       "      <th>2</th>\n",
       "      <td>Osaka</td>\n",
       "      <td>blue</td>\n",
       "      <td>13</td>\n",
       "    </tr>\n",
       "    <tr>\n",
       "      <th>3</th>\n",
       "      <td>Osaka</td>\n",
       "      <td>red</td>\n",
       "      <td>9</td>\n",
       "    </tr>\n",
       "  </tbody>\n",
       "</table>\n",
       "</div>"
      ],
      "text/plain": [
       "   store color  sales\n",
       "0  Tokyo  blue     10\n",
       "1  Tokyo   red     15\n",
       "2  Osaka  blue     13\n",
       "3  Osaka   red      9"
      ]
     },
     "execution_count": 12,
     "metadata": {},
     "output_type": "execute_result"
    }
   ],
   "source": [
    "shoes"
   ]
  },
  {
   "cell_type": "code",
   "execution_count": 13,
   "metadata": {},
   "outputs": [
    {
     "name": "stdout",
     "output_type": "stream",
     "text": [
      "color  blue  red\n",
      "store           \n",
      "Osaka    13    9\n",
      "Tokyo    10   15\n"
     ]
    }
   ],
   "source": [
    "cross = pd.pivot_table(\n",
    "    data = shoes,\n",
    "    values = \"sales\",\n",
    "    aggfunc = \"sum\",\n",
    "    index = \"store\",\n",
    "    columns = \"color\"\n",
    ")\n",
    "print(cross)"
   ]
  },
  {
   "cell_type": "code",
   "execution_count": 16,
   "metadata": {},
   "outputs": [
    {
     "name": "stdout",
     "output_type": "stream",
     "text": [
      "      x   y\n",
      "0  18.5  34\n",
      "1  18.7  39\n",
      "2  19.1  41\n",
      "3  19.7  38\n",
      "4  21.5  45\n",
      "5  21.7  41\n",
      "6  21.8  52\n",
      "7  22.0  44\n",
      "8  23.4  44\n",
      "9  23.8  49\n"
     ]
    }
   ],
   "source": [
    "cov_data = pd.read_csv(\"sample\\\\3-2-3-cov.csv\")\n",
    "print(cov_data)"
   ]
  },
  {
   "cell_type": "code",
   "execution_count": 17,
   "metadata": {},
   "outputs": [],
   "source": [
    "x = cov_data[\"x\"]\n",
    "y = cov_data[\"y\"]\n",
    "N = len(cov_data)\n",
    "mu_x = sp.mean(x)\n",
    "mu_y = sp.mean(y)"
   ]
  },
  {
   "cell_type": "code",
   "execution_count": 18,
   "metadata": {},
   "outputs": [
    {
     "data": {
      "text/plain": [
       "6.906"
      ]
     },
     "execution_count": 18,
     "metadata": {},
     "output_type": "execute_result"
    }
   ],
   "source": [
    "cov_sample = sum((x-mu_x)*(y-mu_y)) / N\n",
    "cov_sample"
   ]
  },
  {
   "cell_type": "code",
   "execution_count": 20,
   "metadata": {},
   "outputs": [
    {
     "data": {
      "text/plain": [
       "7.673"
      ]
     },
     "execution_count": 20,
     "metadata": {},
     "output_type": "execute_result"
    }
   ],
   "source": [
    "cov = sum((x-mu_x)*(y-mu_y)) / (N - 1)\n",
    "cov"
   ]
  },
  {
   "cell_type": "code",
   "execution_count": 24,
   "metadata": {},
   "outputs": [
    {
     "name": "stdout",
     "output_type": "stream",
     "text": [
      "25.210000000000004\n",
      "3.2815999999999996\n"
     ]
    }
   ],
   "source": [
    "print(sp.var(y))\n",
    "print(sp.var(x))"
   ]
  },
  {
   "cell_type": "code",
   "execution_count": 27,
   "metadata": {},
   "outputs": [
    {
     "data": {
      "text/plain": [
       "array([[ 3.282,  6.906],\n",
       "       [ 6.906, 25.21 ]])"
      ]
     },
     "execution_count": 27,
     "metadata": {},
     "output_type": "execute_result"
    }
   ],
   "source": [
    "sp.cov(x,y,ddof=0)\n",
    "# sp.cov(x,y,ddof=1) 分母をN-1とした分散共分散行列"
   ]
  },
  {
   "cell_type": "markdown",
   "metadata": {},
   "source": [
    "### ピアソンの積率相関係数　通常相関係数といえばこれ。"
   ]
  },
  {
   "cell_type": "code",
   "execution_count": 28,
   "metadata": {},
   "outputs": [
    {
     "data": {
      "text/plain": [
       "0.7592719041137088"
      ]
     },
     "execution_count": 28,
     "metadata": {},
     "output_type": "execute_result"
    }
   ],
   "source": [
    "sigma_2_x = sp.var(x, ddof = 1)\n",
    "sigma_2_y = sp.var(y, ddof = 1)\n",
    "rho = cov / sp.sqrt(sigma_2_x * sigma_2_y)\n",
    "rho"
   ]
  },
  {
   "cell_type": "code",
   "execution_count": 30,
   "metadata": {},
   "outputs": [
    {
     "data": {
      "text/plain": [
       "array([[1.   , 0.759],\n",
       "       [0.759, 1.   ]])"
      ]
     },
     "execution_count": 30,
     "metadata": {},
     "output_type": "execute_result"
    }
   ],
   "source": [
    "sp.corrcoef(x, y)"
   ]
  },
  {
   "cell_type": "code",
   "execution_count": null,
   "metadata": {},
   "outputs": [],
   "source": []
  }
 ],
 "metadata": {
  "kernelspec": {
   "display_name": "Python 3",
   "language": "python",
   "name": "python3"
  },
  "language_info": {
   "codemirror_mode": {
    "name": "ipython",
    "version": 3
   },
   "file_extension": ".py",
   "mimetype": "text/x-python",
   "name": "python",
   "nbconvert_exporter": "python",
   "pygments_lexer": "ipython3",
   "version": "3.7.1"
  }
 },
 "nbformat": 4,
 "nbformat_minor": 2
}
